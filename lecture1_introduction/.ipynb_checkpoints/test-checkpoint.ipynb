{
 "cells": [
  {
   "cell_type": "code",
   "execution_count": 3,
   "id": "61d09d38",
   "metadata": {},
   "outputs": [
    {
     "name": "stdout",
     "output_type": "stream",
     "text": [
      "空列表: []\n",
      "数字列表: [1, 2, 3, 4, 5]\n",
      "混合类型列表: [1, 'hello', 3.14, True]\n",
      "使用range创建的列表: [1, 2, 3, 4, 5]\n",
      "平方数列表: [1, 4, 9, 16, 25]\n",
      "字符列表: ['P', 'y', 't', 'h', 'o', 'n']\n",
      "嵌套列表: [[1, 2, 3], [4, 5, 6], [7, 8, 9]]\n",
      "重复列表: [0, 0, 0, 0, 0]\n",
      "\n",
      "=== 列表操作 ===\n",
      "原始水果列表: ['apple', 'banana', 'orange']\n",
      "添加grape后: ['apple', 'banana', 'orange', 'grape']\n",
      "在索引1插入kiwi后: ['apple', 'kiwi', 'banana', 'orange', 'grape']\n",
      "删除banana后: ['apple', 'kiwi', 'orange', 'grape']\n",
      "排序后: ['apple', 'grape', 'kiwi', 'orange']\n",
      "反转后: ['orange', 'kiwi', 'grape', 'apple']\n",
      "列表长度: 4\n",
      "'apple'在列表中: True\n"
     ]
    }
   ],
   "source": [
    "# 创建Python列表的多种方法\n",
    "\n",
    "# 方法1：创建空列表\n",
    "empty_list = []\n",
    "print(\"空列表:\", empty_list)\n",
    "\n",
    "# 方法2：创建包含元素的列表\n",
    "numbers = [1, 2, 3, 4, 5]\n",
    "print(\"数字列表:\", numbers)\n",
    "\n",
    "# 方法3：创建混合类型列表\n",
    "mixed_list = [1, \"hello\", 3.14, True]\n",
    "print(\"混合类型列表:\", mixed_list)\n",
    "\n",
    "# 方法4：使用list()函数创建列表\n",
    "list_from_range = list(range(1, 6))\n",
    "print(\"使用range创建的列表:\", list_from_range)\n",
    "\n",
    "# 方法5：列表推导式\n",
    "squares = [x**2 for x in range(1, 6)]\n",
    "print(\"平方数列表:\", squares)\n",
    "\n",
    "# 方法6：从字符串创建字符列表\n",
    "char_list = list(\"Python\")\n",
    "print(\"字符列表:\", char_list)\n",
    "\n",
    "# 方法7：创建嵌套列表\n",
    "nested_list = [[1, 2, 3], [4, 5, 6], [7, 8, 9]]\n",
    "print(\"嵌套列表:\", nested_list)\n",
    "\n",
    "# 方法8：使用*操作符重复列表\n",
    "repeated_list = [0] * 5\n",
    "print(\"重复列表:\", repeated_list)\n",
    "\n",
    "# 列表操作示例\n",
    "print(\"\\n=== 列表操作 ===\")\n",
    "fruits = [\"apple\", \"banana\", \"orange\"]\n",
    "print(\"原始水果列表:\", fruits)\n",
    "\n",
    "# 添加元素\n",
    "fruits.append(\"grape\")\n",
    "print(\"添加grape后:\", fruits)\n",
    "\n",
    "# 插入元素\n",
    "fruits.insert(1, \"kiwi\")\n",
    "print(\"在索引1插入kiwi后:\", fruits)\n",
    "\n",
    "# 删除元素\n",
    "fruits.remove(\"banana\")\n",
    "print(\"删除banana后:\", fruits)\n",
    "\n",
    "# 排序\n",
    "fruits.sort()\n",
    "print(\"排序后:\", fruits)\n",
    "\n",
    "# 反转\n",
    "fruits.reverse()\n",
    "print(\"反转后:\", fruits)\n",
    "\n",
    "# 获取长度\n",
    "print(\"列表长度:\", len(fruits))\n",
    "\n",
    "# 检查元素是否存在\n",
    "print(\"'apple'在列表中:\", \"apple\" in fruits)\n"
   ]
  },
  {
   "cell_type": "code",
   "execution_count": 2,
   "id": "7b8e5ae7-7499-4f2b-b7c2-78fe0581a7a8",
   "metadata": {},
   "outputs": [
    {
     "ename": "ModuleNotFoundError",
     "evalue": "No module named 'matplotlib'",
     "output_type": "error",
     "traceback": [
      "\u001b[31m---------------------------------------------------------------------------\u001b[39m",
      "\u001b[31mModuleNotFoundError\u001b[39m                       Traceback (most recent call last)",
      "\u001b[36mCell\u001b[39m\u001b[36m \u001b[39m\u001b[32mIn[2]\u001b[39m\u001b[32m, line 1\u001b[39m\n\u001b[32m----> \u001b[39m\u001b[32m1\u001b[39m \u001b[38;5;28;01mimport\u001b[39;00m\u001b[38;5;250m \u001b[39m\u001b[34;01mmatplotlib\u001b[39;00m\u001b[34;01m.\u001b[39;00m\u001b[34;01mpyplot\u001b[39;00m\u001b[38;5;250m \u001b[39m\u001b[38;5;28;01mas\u001b[39;00m\u001b[38;5;250m \u001b[39m\u001b[34;01mplt\u001b[39;00m\n\u001b[32m      2\u001b[39m \u001b[38;5;28;01mimport\u001b[39;00m\u001b[38;5;250m \u001b[39m\u001b[34;01mnumpy\u001b[39;00m\u001b[38;5;250m \u001b[39m\u001b[38;5;28;01mas\u001b[39;00m\u001b[38;5;250m \u001b[39m\u001b[34;01mnp\u001b[39;00m\n\u001b[32m      4\u001b[39m \u001b[38;5;66;03m# 创建一个简单的数值列表\u001b[39;00m\n",
      "\u001b[31mModuleNotFoundError\u001b[39m: No module named 'matplotlib'"
     ]
    }
   ],
   "source": [
    "import matplotlib.pyplot as plt\n",
    "import numpy as np\n",
    "\n",
    "# 创建一个简单的数值列表\n",
    "x = np.linspace(0, 2*np.pi, 100)\n",
    "y = np.sin(x)\n",
    "\n",
    "# 绘制折线图\n",
    "plt.figure(figsize=(8, 4))\n",
    "plt.plot(x, y)\n",
    "plt.title('Sine Wave Plot')\n",
    "plt.xlabel('X axis')\n",
    "plt.ylabel('Y axis')\n",
    "plt.grid(True)\n",
    "plt.show()"
   ]
  },
  {
   "cell_type": "code",
   "execution_count": null,
   "id": "bc0b829c",
   "metadata": {},
   "outputs": [],
   "source": []
  }
 ],
 "metadata": {
  "kernelspec": {
   "display_name": "finance",
   "language": "python",
   "name": "python3"
  },
  "language_info": {
   "codemirror_mode": {
    "name": "ipython",
    "version": 3
   },
   "file_extension": ".py",
   "mimetype": "text/x-python",
   "name": "python",
   "nbconvert_exporter": "python",
   "pygments_lexer": "ipython3",
   "version": "3.12.11"
  }
 },
 "nbformat": 4,
 "nbformat_minor": 5
}
